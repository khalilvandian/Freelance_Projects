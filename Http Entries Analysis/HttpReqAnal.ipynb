{
 "cells": [
  {
   "cell_type": "code",
   "execution_count": 196,
   "id": "70e369c0",
   "metadata": {},
   "outputs": [],
   "source": [
    "import json\n",
    "from haralyzer import HarParser, HarPage\n",
    "from http.cookies import SimpleCookie\n",
    "from tld import get_fld\n",
    "import re\n",
    "import datetime\n",
    "import datetime\n",
    "from dateutil import parser\n",
    "from datetime import datetime\n",
    "import maxminddb \n",
    "import sys"
   ]
  },
  {
   "cell_type": "code",
   "execution_count": 197,
   "id": "cd63b1bf",
   "metadata": {},
   "outputs": [],
   "source": [
    "har_parser = HarParser.from_file(\"amazon.nl.har\")\n",
    "file = har_parser\n",
    "har_parser_2 = HarParser.from_file(\"amazon.nl_adblocker.har\")\n",
    "filename = har_parser_2"
   ]
  },
  {
   "cell_type": "code",
   "execution_count": null,
   "id": "3cf4767e",
   "metadata": {},
   "outputs": [],
   "source": []
  },
  {
   "cell_type": "markdown",
   "id": "e5df6c12",
   "metadata": {},
   "source": [
    "Extract the total count of requests."
   ]
  },
  {
   "cell_type": "code",
   "execution_count": 198,
   "id": "5161dce9",
   "metadata": {},
   "outputs": [],
   "source": [
    "def find_num_requests(har_parser):\n",
    "    num_reqs = 0\n",
    "    for page in har_parser.pages:\n",
    "        num_reqs = num_reqs + len(page.entries)\n",
    "        \n",
    "    return(num_reqs)"
   ]
  },
  {
   "cell_type": "markdown",
   "id": "a9a38891",
   "metadata": {},
   "source": [
    "Number of requests containing cookies"
   ]
  },
  {
   "cell_type": "code",
   "execution_count": 199,
   "id": "4f681f19",
   "metadata": {},
   "outputs": [],
   "source": [
    "def num_requests_with_cookies(har_parser):\n",
    "    num_requests_w_cookies = 0\n",
    "    for page in har_parser.pages:\n",
    "        for entry in page.entries:\n",
    "            if entry.request.cookies:\n",
    "                num_requests_w_cookies = num_requests_w_cookies +1\n",
    "    return num_requests_w_cookies"
   ]
  },
  {
   "cell_type": "markdown",
   "id": "01077347",
   "metadata": {},
   "source": [
    "Number of responses containing cookies"
   ]
  },
  {
   "cell_type": "code",
   "execution_count": 200,
   "id": "a7bbb83c",
   "metadata": {},
   "outputs": [],
   "source": [
    "def num_responses_w_cookies(har_parser):   \n",
    "    num_responses_w_cookies = 0\n",
    "    for page in har_parser.pages:\n",
    "        for entry in page.entries:\n",
    "            header_names = [ header['name'] for header in entry.response.headers]\n",
    "            if 'set-cookie' in header_names:\n",
    "                num_responses_w_cookies = num_responses_w_cookies +1\n",
    "    return num_responses_w_cookies"
   ]
  },
  {
   "cell_type": "markdown",
   "id": "1db3ff28",
   "metadata": {},
   "source": [
    "● third_party_domains: list of distinct third-party domains (eTLD+1)"
   ]
  },
  {
   "cell_type": "code",
   "execution_count": 201,
   "id": "074ecce8",
   "metadata": {},
   "outputs": [],
   "source": [
    "def third_party_domain(har_parser):\n",
    "    third_party_domains = []\n",
    "    first_party_domain = 'amazon.nl'\n",
    "    FIRST_PARTY_DOMAINS = [first_party_domain]\n",
    "    for page in har_parser.pages:\n",
    "        for entry in page.entries:\n",
    "            req_domain = get_fld(entry.request.url)\n",
    "            if req_domain not in FIRST_PARTY_DOMAINS:\n",
    "                third_party_domains.append(req_domain)\n",
    "\n",
    "    third_party_domains = list(set(third_party_domains))\n",
    "    return third_party_domains\n"
   ]
  },
  {
   "cell_type": "markdown",
   "id": "9f4d42ca",
   "metadata": {},
   "source": [
    "● cookie_domains: list of distinct cookie domain attributes (using the cookies field)\n"
   ]
  },
  {
   "cell_type": "code",
   "execution_count": 202,
   "id": "43d3a244",
   "metadata": {},
   "outputs": [],
   "source": [
    "def domains_w_cookies(har_parser):\n",
    "    cookie_domains = []\n",
    "    for page in har_parser.pages:\n",
    "        for entry in page.entries:\n",
    "            domains_temp = [cookie['domain'] for cookie in entry.request.cookies]\n",
    "\n",
    "    domains = list(set(domains_temp))\n",
    "    return domains"
   ]
  },
  {
   "cell_type": "markdown",
   "id": "9a00e856",
   "metadata": {},
   "source": [
    "● xorigin_cookie_domains: list of cookie domains set via HTTP response headers, with\n",
    "SameSite=None, and lifespan >= 90 days\n"
   ]
  },
  {
   "cell_type": "code",
   "execution_count": 203,
   "id": "653f2577",
   "metadata": {},
   "outputs": [],
   "source": [
    "def xorigin_cookie_domains(har_parser):\n",
    "    xorigin_cookie_domains = set()\n",
    "\n",
    "    for page in har_parser.pages:\n",
    "        for entry in page.entries:\n",
    "            domain = get_fld(entry.request.url)\n",
    "            for response in entry.response.headers:\n",
    "                if response['name'] == 'set-cookie':\n",
    "                    sameSite = re.search(\"sameSite=(.*?);\",response['value'],re.IGNORECASE)\n",
    "                    expires = re.search(\"expires=(.*?);\",response['value'],re.IGNORECASE) \n",
    "                    expireDate = datetime.strptime(parser.parse(expires.group(1)).strftime(\"%Y-%m-%d\"), \"%Y-%m-%d\")\n",
    "\n",
    "                    if (expireDate - datetime.now() ).days <= 0:\n",
    "                        lifespan_cond = False\n",
    "\n",
    "                    else:\n",
    "\n",
    "                        lifespan = (expireDate - datetime.now()).days\n",
    "                        if lifespan >= 90:\n",
    "                            lifespan_cond = True\n",
    "\n",
    "                        else:\n",
    "                            lifespan_cond = False\n",
    "\n",
    "                    if sameSite and expires and sameSite.group(1).lower() ==\"none\" and lifespan_cond: \n",
    "                        xorigin_cookie_domains.add(domain)   \n",
    "\n",
    "    xorigin_cookie_domains = list(xorigin_cookie_domains)\n",
    "    return xorigin_cookie_domains"
   ]
  },
  {
   "cell_type": "markdown",
   "id": "abb73785",
   "metadata": {},
   "source": [
    "● server_countries: list of distinct server countries (using the serverIPAddress field and the \n",
    "geolocation databases linked below)\n"
   ]
  },
  {
   "cell_type": "code",
   "execution_count": 204,
   "id": "a0ee4999",
   "metadata": {},
   "outputs": [],
   "source": [
    "#Get the country name of specified IP\n",
    "def getCountryName(ipAddress):\n",
    "    response = ''\n",
    "\n",
    "    with maxminddb.open_database('dbip-country-lite.mmdb') as reader:\n",
    "        reader.get(ipAddress)\n",
    "        try:\n",
    "            response = reader.country(ipAddress)\n",
    "            return response.country.name\n",
    "        except:\n",
    "            msg = \"[*] AddressNotFoundError for ip: %s\" % (ipAddress)\n",
    "            return(\"unknown\")\n",
    "\n",
    "def server_countries(file):\n",
    "    server_country_list = set()\n",
    "    for page in har_parser.pages:\n",
    "        for entry in page.entries:     \n",
    "            req_domain = entry.serverAddress\n",
    "\n",
    "            if req_domain != \"\":\n",
    "                server_country_name = getCountryName(req_domain)\n",
    "                if server_country_name != \"unknown\":\n",
    "                    server_country_list.add(server_country_name)\n",
    "\n",
    "    server_country_list = list(server_country_list)\n",
    "    return(server_country_list)"
   ]
  },
  {
   "cell_type": "code",
   "execution_count": 205,
   "id": "f8acd967",
   "metadata": {},
   "outputs": [],
   "source": [
    "#Check whether the domain is in either one of the domain list\n",
    "def is_domain_listed(request_domain):\n",
    "    with open('easylist-justdomains.txt') as file:\n",
    "        for line in file:\n",
    "            domains = line.strip()\n",
    "        if request_domain in domains:\n",
    "            return True\n",
    "        else:\n",
    "            with open('easyprivacy-justdomains.txt') as f2:\n",
    "                domains2 = [line.rstrip() for line in f2]\n",
    "                if request_domain in domains2:\n",
    "                    return True\n",
    "                else:\n",
    "                    return False"
   ]
  },
  {
   "cell_type": "code",
   "execution_count": 206,
   "id": "70e6fe4c",
   "metadata": {},
   "outputs": [],
   "source": [
    "#Get the first 128 char of given URL\n",
    "def get_url_first_128_char(url):\n",
    "    if len(url)<=128:\n",
    "        return(url)\n",
    "    else:\n",
    "        return(url[0:128])"
   ]
  },
  {
   "cell_type": "markdown",
   "id": "20f268cf",
   "metadata": {},
   "source": [
    "● requests: a list of dictionaries, where each dictionary contains the following \n",
    "request/response details:\n",
    "○ request_domain: String; e.g. example.com\n",
    "○ server_country: String; e.g. Germany; “unknown” if server IP is unavailable\n",
    "○ num_request_cookies: Integer\n",
    "○ num_response_cookies: Integer\n",
    "○ is_tracker: Boolean; whether the request hostname or domain is listed in EasyList \n",
    "or EasyPrivacy “just domains” blocklists\n",
    "○ url_first_128_char: String; the first 128 characters of the URL; e.g. \n",
    "https://example.com/pixel.gif"
   ]
  },
  {
   "cell_type": "code",
   "execution_count": 207,
   "id": "010da0c8",
   "metadata": {},
   "outputs": [],
   "source": [
    " def requests(har_parser):\n",
    "    requests = []\n",
    "    num_request_cookies = 0\n",
    "    num_response_cookies = 0\n",
    "    \n",
    "    for page in har_parser.pages:\n",
    "        for entry in page.entries:    \n",
    "            num_requests_w_cookies_temp = 0\n",
    "            if entry.request.cookies:\n",
    "                num_requests_w_cookies_temp = num_requests_w_cookies_temp +1\n",
    "        \n",
    "            request_domain = get_fld(entry.request.url)\n",
    "            \n",
    "            req_Ip_Adress = entry.serverAddress\n",
    "            req_Ip_Adress = re.sub(r\"[\\([{})\\]]\", \"\", req_Ip_Adress)\n",
    "            \n",
    "            \n",
    "            if req_Ip_Adress != \"\":\n",
    "                server_country = getCountryName(req_Ip_Adress)\n",
    "            else:\n",
    "                server_country = 'unknown'            \n",
    "            \n",
    "            for request_header in entry.request.headers:\n",
    "                if request_header['name'] == 'cookie':\n",
    "                    num_request_cookies += 1 \n",
    "            for reponse_header in entry.response.headers:\n",
    "                if reponse_header['name'] == 'set-cookie':\n",
    "                    num_response_cookies += 1 \n",
    "            is_tracker = is_domain_listed(request_domain)\n",
    "            url_first_128_char = get_url_first_128_char(entry.request.url)\n",
    "          \n",
    "            request_response = {}\n",
    "            request_response['request_domain'] = request_domain\n",
    "            request_response['server_country'] = server_country\n",
    "            request_response['num_request_cookies'] = num_request_cookies\n",
    "            request_response['num_response_cookies'] = num_response_cookies\n",
    "            request_response['is_tracker'] = is_tracker\n",
    "            request_response['url_first_128_char'] = url_first_128_char\n",
    "\n",
    "            requests.append(request_response)\n",
    "            \n",
    "            \n",
    "    return requests"
   ]
  },
  {
   "cell_type": "code",
   "execution_count": 208,
   "id": "dbe043a8",
   "metadata": {},
   "outputs": [],
   "source": [
    "appDict = {\n",
    "    \"num_reqs\": find_num_requests(file),\n",
    "    \"num_requests_w_cookies\":num_requests_with_cookies(file),\n",
    "    \"num_responses_w_cookies\":num_responses_w_cookies(file),\n",
    "    \"third_party_domains\":third_party_domain(file),\n",
    "    \"domains_w_cookies\": domains_w_cookies(file),\n",
    "    \"server_countries\" : server_countries(file),\n",
    "    \"xorigin_cookie_domains\": xorigin_cookie_domains(file),\n",
    "    \"requests\": requests(file),\n",
    "}"
   ]
  },
  {
   "cell_type": "code",
   "execution_count": 209,
   "id": "7fa037cd",
   "metadata": {},
   "outputs": [],
   "source": [
    "with open('amazon.nl.json', 'w') as fp:\n",
    "    json.dump(appDict, fp)"
   ]
  },
  {
   "cell_type": "code",
   "execution_count": 210,
   "id": "6f162ae7",
   "metadata": {},
   "outputs": [],
   "source": [
    "appDict = {\n",
    "    \"num_reqs\": find_num_requests(filename),\n",
    "    \"num_requests_w_cookies\":num_requests_with_cookies(filename),\n",
    "    \"num_responses_w_cookies\":num_responses_w_cookies(filename),\n",
    "    \"third_party_domains\":third_party_domain(filename),\n",
    "    \"domains_w_cookies\": domains_w_cookies(filename),\n",
    "    \"server_countries\" : server_countries(filename),\n",
    "    \"xorigin_cookie_domains\": xorigin_cookie_domains(filename),\n",
    "    \"requests\": requests(filename),\n",
    "}"
   ]
  },
  {
   "cell_type": "code",
   "execution_count": 211,
   "id": "a430268b",
   "metadata": {},
   "outputs": [],
   "source": [
    "with open('amazon.nl_adblocker.json', 'w') as fp:\n",
    "    json.dump(appDict, fp)"
   ]
  },
  {
   "cell_type": "code",
   "execution_count": null,
   "id": "3a8f0709",
   "metadata": {},
   "outputs": [],
   "source": []
  }
 ],
 "metadata": {
  "kernelspec": {
   "display_name": "Python 3 (ipykernel)",
   "language": "python",
   "name": "python3"
  },
  "language_info": {
   "codemirror_mode": {
    "name": "ipython",
    "version": 3
   },
   "file_extension": ".py",
   "mimetype": "text/x-python",
   "name": "python",
   "nbconvert_exporter": "python",
   "pygments_lexer": "ipython3",
   "version": "3.9.12"
  }
 },
 "nbformat": 4,
 "nbformat_minor": 5
}
