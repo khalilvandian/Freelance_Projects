{
 "cells": [
  {
   "cell_type": "markdown",
   "id": "d8028e22",
   "metadata": {},
   "source": [
    "# Machine cell formation for dynamic part population considering part operation trade-off and worker assignment using simulated annealing-based genetic algorithm\n",
    "This notebook is for implementation of a metaheuristic algorith for Machine cell formation for dynamic part population \n",
    "considering part operation trade-off and worker assignment."
   ]
  },
  {
   "cell_type": "code",
   "execution_count": null,
   "id": "edaf904b",
   "metadata": {},
   "outputs": [],
   "source": []
  }
 ],
 "metadata": {
  "kernelspec": {
   "display_name": "Python 3 (ipykernel)",
   "language": "python",
   "name": "python3"
  },
  "language_info": {
   "codemirror_mode": {
    "name": "ipython",
    "version": 3
   },
   "file_extension": ".py",
   "mimetype": "text/x-python",
   "name": "python",
   "nbconvert_exporter": "python",
   "pygments_lexer": "ipython3",
   "version": "3.9.12"
  }
 },
 "nbformat": 4,
 "nbformat_minor": 5
}
